{
 "cells": [
  {
   "cell_type": "code",
   "execution_count": null,
   "metadata": {},
   "outputs": [],
   "source": [
    "import numpy as np\n",
    "from keras.utils import to_categorical\n",
    "#滑动窗口提取数据\n",
    "def extract_data(data, slide):    \n",
    "    x = []\n",
    "    y = []    \n",
    "    for i in range(len(data) - slide):\n",
    "        x.append([a for a in data[i:i+slide]])\n",
    "        y.append(data[i+slide])        \n",
    "    return x,y\n",
    "#字符到数字的批量转化\n",
    "def char_to_int_Data(x,y, char_to_int):    \n",
    "    x_to_int = []\n",
    "    y_to_int = []\n",
    "    for i in range(len(x)):\n",
    "        x_to_int.append([char_to_int[char] for char in x[i]])\n",
    "        y_to_int.append([char_to_int[char] for char in y[i]])    \n",
    "    return x_to_int, y_to_int\n",
    "#实现输入字符文章的批量处理，输入整个字符、滑动窗口大小、转化字典\n",
    "def data_preprocessing(data, slide, num_letters, char_to_int):    \n",
    "    char_Data = extract_data(data, slide)\n",
    "    int_Data = char_to_int_Data(char_Data[0], char_Data[1], char_to_int)\n",
    "    Input = int_Data[0]\n",
    "    Output = list(np.array(int_Data[1]).flatten())\n",
    "    Input_RESHAPED = np.array(Input).reshape(len(Input), slide)\n",
    "    new = np.random.randint(0,10,size=[Input_RESHAPED.shape[0],Input_RESHAPED.shape[1],num_letters])\n",
    "    for i in range(Input_RESHAPED.shape[0]):\n",
    "        for j in range(Input_RESHAPED.shape[1]):\n",
    "            new[i,j,:] = to_categorical(Input_RESHAPED[i,j],num_classes=num_letters)\n",
    "    return new, Output"
   ]
  }
 ],
 "metadata": {
  "kernelspec": {
   "display_name": "Python 3",
   "language": "python",
   "name": "python3"
  },
  "language_info": {
   "codemirror_mode": {
    "name": "ipython",
    "version": 3
   },
   "file_extension": ".py",
   "mimetype": "text/x-python",
   "name": "python",
   "nbconvert_exporter": "python",
   "pygments_lexer": "ipython3",
   "version": "3.6.10"
  }
 },
 "nbformat": 4,
 "nbformat_minor": 2
}

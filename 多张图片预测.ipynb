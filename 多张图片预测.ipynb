{
 "cells": [
  {
   "cell_type": "code",
   "execution_count": null,
   "metadata": {},
   "outputs": [],
   "source": [
    "# make prediction on multiple images\n",
    "import matplotlib as mlp\n",
    "font2 = {'family' : 'SimHei',\n",
    "'weight' : 'normal',\n",
    "'size'   : 20,\n",
    "}\n",
    "mlp.rcParams['font.family'] = 'SimHei'\n",
    "mlp.rcParams['axes.unicode_minus'] = False\n",
    "from matplotlib import pyplot as plt\n",
    "from matplotlib.image import imread\n",
    "from keras.preprocessing.image import load_img\n",
    "from keras.preprocessing.image import img_to_array\n",
    "from keras.models import load_model\n",
    "a = [i for i in range(1,10)]\n",
    "fig = plt.figure(figsize=(10,10))\n",
    "for i in a:\n",
    "    img_name = str(i)+'.jpg'\n",
    "    img_ori = load_img(img_name, target_size=(50, 50))\n",
    "    img = img_to_array(img_ori)\n",
    "    img = img.astype('float32')/255\n",
    "    img = img.reshape(1,50,50,3)\n",
    "    result = model.predict_classes(img)\n",
    "    img_ori = load_img(img_name, target_size=(250, 250))\n",
    "    plt.subplot(3,3,i)\n",
    "    plt.imshow(img_ori)\n",
    "    plt.title('预测为：狗狗' if result[0][0] == 1 else '预测为：猫咪')\n",
    "plt.show()"
   ]
  }
 ],
 "metadata": {
  "kernelspec": {
   "display_name": "Python 3",
   "language": "python",
   "name": "python3"
  },
  "language_info": {
   "codemirror_mode": {
    "name": "ipython",
    "version": 3
   },
   "file_extension": ".py",
   "mimetype": "text/x-python",
   "name": "python",
   "nbconvert_exporter": "python",
   "pygments_lexer": "ipython3",
   "version": "3.6.10"
  }
 },
 "nbformat": 4,
 "nbformat_minor": 2
}
